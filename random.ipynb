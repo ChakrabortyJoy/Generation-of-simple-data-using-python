{
 "cells": [
  {
   "cell_type": "code",
   "execution_count": 19,
   "id": "967b8f9f-0a22-4c0b-aa83-dcb3ec5d18d2",
   "metadata": {},
   "outputs": [],
   "source": [
    "import pandas as pd\n",
    "from faker import Faker\n",
    "import random\n",
    "from random import randint"
   ]
  },
  {
   "cell_type": "code",
   "execution_count": 20,
   "id": "5c795cf6-7e8a-48e6-87ab-c96e2c3773ab",
   "metadata": {},
   "outputs": [],
   "source": [
    "data=pd.read_csv('MOCK_DATA.csv')"
   ]
  },
  {
   "cell_type": "code",
   "execution_count": 21,
   "id": "f6403522-f207-4ca5-9098-4f626a54e49b",
   "metadata": {},
   "outputs": [
    {
     "data": {
      "text/html": [
       "<div>\n",
       "<style scoped>\n",
       "    .dataframe tbody tr th:only-of-type {\n",
       "        vertical-align: middle;\n",
       "    }\n",
       "\n",
       "    .dataframe tbody tr th {\n",
       "        vertical-align: top;\n",
       "    }\n",
       "\n",
       "    .dataframe thead th {\n",
       "        text-align: right;\n",
       "    }\n",
       "</style>\n",
       "<table border=\"1\" class=\"dataframe\">\n",
       "  <thead>\n",
       "    <tr style=\"text-align: right;\">\n",
       "      <th></th>\n",
       "      <th>first_name</th>\n",
       "      <th>gender</th>\n",
       "      <th>Country</th>\n",
       "    </tr>\n",
       "  </thead>\n",
       "  <tbody>\n",
       "    <tr>\n",
       "      <th>0</th>\n",
       "      <td>Alaine</td>\n",
       "      <td>Female</td>\n",
       "      <td>China</td>\n",
       "    </tr>\n",
       "    <tr>\n",
       "      <th>1</th>\n",
       "      <td>Garfield</td>\n",
       "      <td>Male</td>\n",
       "      <td>Venezuela</td>\n",
       "    </tr>\n",
       "    <tr>\n",
       "      <th>2</th>\n",
       "      <td>Gale</td>\n",
       "      <td>Female</td>\n",
       "      <td>Egypt</td>\n",
       "    </tr>\n",
       "    <tr>\n",
       "      <th>3</th>\n",
       "      <td>Mair</td>\n",
       "      <td>Genderfluid</td>\n",
       "      <td>Lithuania</td>\n",
       "    </tr>\n",
       "    <tr>\n",
       "      <th>4</th>\n",
       "      <td>Theobald</td>\n",
       "      <td>Male</td>\n",
       "      <td>Armenia</td>\n",
       "    </tr>\n",
       "  </tbody>\n",
       "</table>\n",
       "</div>"
      ],
      "text/plain": [
       "  first_name       gender    Country\n",
       "0     Alaine       Female      China\n",
       "1   Garfield         Male  Venezuela\n",
       "2       Gale       Female      Egypt\n",
       "3       Mair  Genderfluid  Lithuania\n",
       "4   Theobald         Male    Armenia"
      ]
     },
     "execution_count": 21,
     "metadata": {},
     "output_type": "execute_result"
    }
   ],
   "source": [
    "data.head()"
   ]
  },
  {
   "cell_type": "code",
   "execution_count": 22,
   "id": "e7e2cf09-ac06-4a04-be7e-37114368ec68",
   "metadata": {},
   "outputs": [],
   "source": [
    "data.drop_duplicates(inplace=True)\n",
    "data.fillna(0, inplace=True)"
   ]
  },
  {
   "cell_type": "code",
   "execution_count": 23,
   "id": "844449d4-7637-466b-9cfe-6bac251e884b",
   "metadata": {},
   "outputs": [],
   "source": [
    "# Example: Generating new names by combining two existing names\n",
    "new_names = []\n",
    "for i in range(len(data)):\n",
    "    # Randomly select two names from the dataset\n",
    "    name1, name2 = random.sample(data['first_name'].tolist(), k=2)\n",
    "    # Combine the two names to create a new name\n",
    "    new_name = name1[:len(name1)//2] + name2[len(name2)//2:]\n",
    "    # Add the new name to the list\n",
    "    new_names.append(new_name)\n",
    "\n",
    "# Change the genders randomly by sampling from a list of genders\n",
    "genders = ['Male', 'Female']\n",
    "new_genders = random.choices(genders, k=len(data))\n",
    "\n",
    "# Change the countries randomly by sampling from a list of countries\n",
    "countries = ['USA', 'Canada', 'Mexico', 'France', 'Germany', 'UK', 'Australia', 'Japan','India']\n",
    "new_countries = random.choices(countries, k=len(data))\n",
    "\n",
    "# Combine the new data into a new dataframe\n",
    "new_data = pd.DataFrame({\n",
    "    'first_name': new_names,\n",
    "    'gender': new_genders,\n",
    "    'country': new_countries\n",
    "})"
   ]
  },
  {
   "cell_type": "code",
   "execution_count": 24,
   "id": "aeede7d7-4089-498d-8b90-3344d0b3c9d7",
   "metadata": {
    "tags": []
   },
   "outputs": [],
   "source": [
    "sampled_data = new_data.sample(n=100, random_state=42)"
   ]
  },
  {
   "cell_type": "code",
   "execution_count": 25,
   "id": "c6aa0bae-261e-4d2e-83d3-7ec6ecd6a0ec",
   "metadata": {},
   "outputs": [],
   "source": [
    "sampled_data.to_csv('random_generated.csv', index=False)"
   ]
  }
 ],
 "metadata": {
  "kernelspec": {
   "display_name": "Python 3 (ipykernel)",
   "language": "python",
   "name": "python3"
  },
  "language_info": {
   "codemirror_mode": {
    "name": "ipython",
    "version": 3
   },
   "file_extension": ".py",
   "mimetype": "text/x-python",
   "name": "python",
   "nbconvert_exporter": "python",
   "pygments_lexer": "ipython3",
   "version": "3.9.13"
  }
 },
 "nbformat": 4,
 "nbformat_minor": 5
}
