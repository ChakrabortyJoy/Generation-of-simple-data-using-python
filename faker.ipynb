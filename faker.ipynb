{
 "cells": [
  {
   "cell_type": "code",
   "execution_count": 9,
   "id": "0457313b",
   "metadata": {},
   "outputs": [],
   "source": [
    "import random\n",
    "import pandas as pd\n",
    "from faker import Faker"
   ]
  },
  {
   "cell_type": "code",
   "execution_count": 10,
   "id": "43d28157-dfdf-4a6e-ade8-c74d7c57d354",
   "metadata": {},
   "outputs": [],
   "source": [
    "data=pd.read_csv('MOCK_DATA.csv')"
   ]
  },
  {
   "cell_type": "code",
   "execution_count": 11,
   "id": "00274b0d-8355-4ae7-964f-8e534601c3e1",
   "metadata": {},
   "outputs": [],
   "source": [
    "fake=Faker()"
   ]
  },
  {
   "cell_type": "code",
   "execution_count": 14,
   "id": "70e870bd-d183-4d06-8817-e8b96fd1662e",
   "metadata": {},
   "outputs": [],
   "source": [
    "new_names = [fake.first_name() for i in range(len(data))]\n",
    "new_genders = [fake.random_element(['Male', 'Female']) for i in range(len(data))]\n",
    "new_countries = [fake.country() for i in range(len(data))]"
   ]
  },
  {
   "cell_type": "code",
   "execution_count": 15,
   "id": "82b0c323-f581-441c-8759-f63d26258331",
   "metadata": {},
   "outputs": [],
   "source": [
    "new_data = pd.DataFrame({\n",
    "    'first_name': new_names,\n",
    "    'gender': new_genders,\n",
    "    'country': new_countries\n",
    "})"
   ]
  },
  {
   "cell_type": "code",
   "execution_count": 16,
   "id": "f5995098-1d70-4f33-9858-cf0489f247af",
   "metadata": {},
   "outputs": [],
   "source": [
    "sampled_data = new_data.sample(n=100, random_state=42)"
   ]
  },
  {
   "cell_type": "code",
   "execution_count": 17,
   "id": "48ba0691-a769-43d7-9a79-15b22544118a",
   "metadata": {},
   "outputs": [],
   "source": [
    "sampled_data.to_csv('fake_dataset.csv',index=False)"
   ]
  },
  {
   "cell_type": "code",
   "execution_count": null,
   "id": "080bfc11-1d97-4468-a5f4-ff01633d1caf",
   "metadata": {},
   "outputs": [],
   "source": []
  }
 ],
 "metadata": {
  "kernelspec": {
   "display_name": "Python 3 (ipykernel)",
   "language": "python",
   "name": "python3"
  },
  "language_info": {
   "codemirror_mode": {
    "name": "ipython",
    "version": 3
   },
   "file_extension": ".py",
   "mimetype": "text/x-python",
   "name": "python",
   "nbconvert_exporter": "python",
   "pygments_lexer": "ipython3",
   "version": "3.9.13"
  }
 },
 "nbformat": 4,
 "nbformat_minor": 5
}
