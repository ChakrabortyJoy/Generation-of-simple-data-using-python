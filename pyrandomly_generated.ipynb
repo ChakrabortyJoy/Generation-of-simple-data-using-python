{
 "cells": [
  {
   "cell_type": "code",
   "execution_count": 1,
   "id": "fda12db1-99e5-4c6c-8747-366cfc4f018f",
   "metadata": {},
   "outputs": [],
   "source": [
    "import pandas as pd\n",
    "import string\n",
    "import random"
   ]
  },
  {
   "cell_type": "code",
   "execution_count": 2,
   "id": "7beddcf5-9c87-4d57-bccd-bd6fc6c9619c",
   "metadata": {},
   "outputs": [],
   "source": [
    "# number of samples\n",
    "num_samples=1000"
   ]
  },
  {
   "cell_type": "code",
   "execution_count": 3,
   "id": "0ef88e74-1a46-44a8-87e1-e8a1b654bcc4",
   "metadata": {},
   "outputs": [],
   "source": [
    "# list of first letters and the length of the names\n",
    "first_letters = ['A', 'B', 'C', 'D', 'E','F','G','H','I','J','K','L']\n",
    "name_length = 5"
   ]
  },
  {
   "cell_type": "code",
   "execution_count": 4,
   "id": "d1409bcb-88ef-418d-b93e-3432db540c81",
   "metadata": {},
   "outputs": [],
   "source": [
    "# Lists of choices for gender and country\n",
    "gender_choices = ['Male', 'Female']\n",
    "country_choices = ['USA', 'Canada', 'UK', 'Australia', 'India', 'Japan', 'Bangladesh', 'Brazil']"
   ]
  },
  {
   "cell_type": "code",
   "execution_count": 5,
   "id": "de7ab857-1fd0-4538-9cdd-f0a5bb187860",
   "metadata": {},
   "outputs": [],
   "source": [
    "# rules for generating names\n",
    "rules = []\n",
    "for i in range(num_samples):\n",
    "    name = ''\n",
    "    for j in range(name_length):\n",
    "        if j == 0:\n",
    "            name += first_letters[i % len(first_letters)]\n",
    "        else:\n",
    "            name += string.ascii_lowercase[(i+j) % len(string.ascii_lowercase)]\n",
    "    row = [name, gender_choices[i % len(gender_choices)], (i % 48) + 18, country_choices[i % len(country_choices)]]\n",
    "    rules.append(row)"
   ]
  },
  {
   "cell_type": "code",
   "execution_count": 7,
   "id": "75cc0cf0-c60b-46ba-a322-e11d7b852c5d",
   "metadata": {},
   "outputs": [],
   "source": [
    "# create dataframe\n",
    "columns = ['name', 'gender', 'age', 'country']\n",
    "data = pd.DataFrame(rules, columns=columns)"
   ]
  },
  {
   "cell_type": "code",
   "execution_count": 8,
   "id": "6f52f215-3787-472d-94bd-48bffff9b420",
   "metadata": {},
   "outputs": [],
   "source": [
    "data.to_csv('pyrandomly_generated.csv', index=False)"
   ]
  }
 ],
 "metadata": {
  "kernelspec": {
   "display_name": "Python 3 (ipykernel)",
   "language": "python",
   "name": "python3"
  },
  "language_info": {
   "codemirror_mode": {
    "name": "ipython",
    "version": 3
   },
   "file_extension": ".py",
   "mimetype": "text/x-python",
   "name": "python",
   "nbconvert_exporter": "python",
   "pygments_lexer": "ipython3",
   "version": "3.9.13"
  }
 },
 "nbformat": 4,
 "nbformat_minor": 5
}
