{
 "cells": [
  {
   "cell_type": "code",
   "execution_count": 1,
   "id": "f0c069c8-025c-4345-9314-bd61341f096f",
   "metadata": {},
   "outputs": [],
   "source": [
    "from faker import Faker\n",
    "import pandas as pd\n",
    "import random"
   ]
  },
  {
   "cell_type": "code",
   "execution_count": 4,
   "id": "392ce002-35cc-4ff8-b92f-f4bdb9a3b6ca",
   "metadata": {},
   "outputs": [],
   "source": [
    "fake=Faker()"
   ]
  },
  {
   "cell_type": "code",
   "execution_count": 9,
   "id": "786ac9f0-b80e-425f-963c-fc91572215c9",
   "metadata": {},
   "outputs": [],
   "source": [
    "num_samples = 1000\n",
    "names = [fake.name() for i in range(num_samples)]\n",
    "ages = [fake.random_int(min=18, max=90, step=1) for i in range(num_samples)]\n",
    "genders = [fake.random_element(elements=('Male', 'Female')) for i in range(num_samples)]\n",
    "countries = [fake.country() for i in range(num_samples)]"
   ]
  },
  {
   "cell_type": "code",
   "execution_count": 10,
   "id": "c710361e-87b7-46f1-8e2d-7667136bee15",
   "metadata": {},
   "outputs": [],
   "source": [
    "for i in range(num_samples):\n",
    "    if random.random() < 0.05:\n",
    "        names[i] = fake.name()\n",
    "    if random.random() < 0.1:\n",
    "        ages[i] = fake.random_int(min=18, max=90, step=1)\n",
    "    if random.random() < 0.05:\n",
    "        genders[i] = fake.random_element(elements=('Male', 'Female'))\n",
    "    if random.random() < 0.05:\n",
    "        countries[i] = fake.country()"
   ]
  },
  {
   "cell_type": "code",
   "execution_count": 11,
   "id": "7d15dc7b-a63c-4db0-be0d-d7d0f0321500",
   "metadata": {},
   "outputs": [],
   "source": [
    "data = pd.DataFrame({'name': names, 'age': ages,'gender':genders,'country': countries})"
   ]
  },
  {
   "cell_type": "code",
   "execution_count": 12,
   "id": "d9cda86d-5d60-4fac-8c59-8f40267eaca7",
   "metadata": {},
   "outputs": [],
   "source": [
    "data.to_csv('faker_generated.csv',index=False)"
   ]
  },
  {
   "cell_type": "code",
   "execution_count": null,
   "id": "75f094c9-465b-4ec3-a21e-05f106fe4712",
   "metadata": {},
   "outputs": [],
   "source": []
  }
 ],
 "metadata": {
  "kernelspec": {
   "display_name": "Python 3 (ipykernel)",
   "language": "python",
   "name": "python3"
  },
  "language_info": {
   "codemirror_mode": {
    "name": "ipython",
    "version": 3
   },
   "file_extension": ".py",
   "mimetype": "text/x-python",
   "name": "python",
   "nbconvert_exporter": "python",
   "pygments_lexer": "ipython3",
   "version": "3.9.13"
  }
 },
 "nbformat": 4,
 "nbformat_minor": 5
}
